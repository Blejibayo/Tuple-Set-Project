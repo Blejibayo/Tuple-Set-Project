{
 "cells": [
  {
   "cell_type": "markdown",
   "id": "14b9a45f-abc6-4d84-9f07-6b6b66c42a6a",
   "metadata": {},
   "source": [
    "<h2>TUPLE<h2>"
   ]
  },
  {
   "cell_type": "code",
   "execution_count": 1,
   "id": "1d7dfdbb-e046-4aba-a8b7-197b389b3210",
   "metadata": {},
   "outputs": [],
   "source": [
    "d=('a', 'b', 'c', 'd')"
   ]
  },
  {
   "cell_type": "code",
   "execution_count": 2,
   "id": "9915e282-a6f5-4476-b0c7-40df9096e55f",
   "metadata": {},
   "outputs": [
    {
     "data": {
      "text/plain": [
       "tuple"
      ]
     },
     "execution_count": 2,
     "metadata": {},
     "output_type": "execute_result"
    }
   ],
   "source": [
    "type(d)"
   ]
  },
  {
   "cell_type": "code",
   "execution_count": 3,
   "id": "76adaa4c-bec7-4135-89a9-c93f2abc1f3e",
   "metadata": {},
   "outputs": [
    {
     "data": {
      "text/plain": [
       "'a'"
      ]
     },
     "execution_count": 3,
     "metadata": {},
     "output_type": "execute_result"
    }
   ],
   "source": [
    "d[0]"
   ]
  },
  {
   "cell_type": "code",
   "execution_count": 4,
   "id": "736f2b75-32dc-42f2-a284-64e4e30b70c0",
   "metadata": {},
   "outputs": [
    {
     "data": {
      "text/plain": [
       "'d'"
      ]
     },
     "execution_count": 4,
     "metadata": {},
     "output_type": "execute_result"
    }
   ],
   "source": [
    "d[3]"
   ]
  },
  {
   "cell_type": "code",
   "execution_count": null,
   "id": "ad7d960e-cbab-46ca-9365-76c43bac3cfe",
   "metadata": {},
   "outputs": [],
   "source": [
    "#COUNT AND INDEX#"
   ]
  },
  {
   "cell_type": "code",
   "execution_count": 5,
   "id": "8cce9d2e-7330-4e88-8752-499ddd5157a0",
   "metadata": {},
   "outputs": [],
   "source": [
    "d=('a','b','c','d','d')"
   ]
  },
  {
   "cell_type": "code",
   "execution_count": 6,
   "id": "5aaf7f7c-a441-4df5-b7ac-677dc97396a0",
   "metadata": {},
   "outputs": [
    {
     "data": {
      "text/plain": [
       "('a', 'b', 'c', 'd', 'd')"
      ]
     },
     "execution_count": 6,
     "metadata": {},
     "output_type": "execute_result"
    }
   ],
   "source": [
    "d"
   ]
  },
  {
   "cell_type": "code",
   "execution_count": 7,
   "id": "208d4997-e8f2-4dad-bad0-bab3af001e72",
   "metadata": {},
   "outputs": [
    {
     "data": {
      "text/plain": [
       "2"
      ]
     },
     "execution_count": 7,
     "metadata": {},
     "output_type": "execute_result"
    }
   ],
   "source": [
    "d.count('d')"
   ]
  },
  {
   "cell_type": "code",
   "execution_count": 8,
   "id": "3a62a3af-1e7e-4878-b8c7-eb07b3c4f157",
   "metadata": {},
   "outputs": [
    {
     "data": {
      "text/plain": [
       "1"
      ]
     },
     "execution_count": 8,
     "metadata": {},
     "output_type": "execute_result"
    }
   ],
   "source": [
    "d.count('b')"
   ]
  },
  {
   "cell_type": "code",
   "execution_count": 9,
   "id": "357c3d43-3cbb-41ed-826b-9e335f6ba121",
   "metadata": {},
   "outputs": [
    {
     "data": {
      "text/plain": [
       "0"
      ]
     },
     "execution_count": 9,
     "metadata": {},
     "output_type": "execute_result"
    }
   ],
   "source": [
    "d.index('a')"
   ]
  },
  {
   "cell_type": "code",
   "execution_count": 10,
   "id": "f241f8b0-6e4c-4e88-83d6-1a62b7ff8665",
   "metadata": {},
   "outputs": [
    {
     "data": {
      "text/plain": [
       "2"
      ]
     },
     "execution_count": 10,
     "metadata": {},
     "output_type": "execute_result"
    }
   ],
   "source": [
    "d.index('c')"
   ]
  },
  {
   "cell_type": "code",
   "execution_count": 11,
   "id": "638fadc4-fb2b-4c28-be8b-83abb10a99c5",
   "metadata": {},
   "outputs": [
    {
     "data": {
      "text/plain": [
       "3"
      ]
     },
     "execution_count": 11,
     "metadata": {},
     "output_type": "execute_result"
    }
   ],
   "source": [
    "d.index('d')"
   ]
  },
  {
   "cell_type": "code",
   "execution_count": 12,
   "id": "54510e16-6d20-4b3c-b4ba-6f940aa66959",
   "metadata": {},
   "outputs": [
    {
     "data": {
      "text/plain": [
       "4"
      ]
     },
     "execution_count": 12,
     "metadata": {},
     "output_type": "execute_result"
    }
   ],
   "source": [
    "d.index('d',4)"
   ]
  },
  {
   "cell_type": "code",
   "execution_count": 13,
   "id": "d355a332-fd80-45e2-87a3-05b8da709a71",
   "metadata": {},
   "outputs": [
    {
     "data": {
      "text/plain": [
       "3"
      ]
     },
     "execution_count": 13,
     "metadata": {},
     "output_type": "execute_result"
    }
   ],
   "source": [
    "d.index('d',3)"
   ]
  },
  {
   "cell_type": "markdown",
   "id": "9399bc8b-2d80-4237-8ff8-0202f4b77178",
   "metadata": {},
   "source": [
    "<h2>SET<H2>"
   ]
  },
  {
   "cell_type": "code",
   "execution_count": 14,
   "id": "44e333a1-a0a7-4e7a-8597-32ab2f65449a",
   "metadata": {},
   "outputs": [],
   "source": [
    "d={'A','A','C','D','D'}"
   ]
  },
  {
   "cell_type": "code",
   "execution_count": 15,
   "id": "30b80a2f-e594-4973-85cb-146fd5fe15da",
   "metadata": {},
   "outputs": [
    {
     "data": {
      "text/plain": [
       "{'A', 'C', 'D'}"
      ]
     },
     "execution_count": 15,
     "metadata": {},
     "output_type": "execute_result"
    }
   ],
   "source": [
    "d"
   ]
  },
  {
   "cell_type": "code",
   "execution_count": 16,
   "id": "fbe91e8a-9208-4a41-b756-7314eedf1121",
   "metadata": {},
   "outputs": [],
   "source": [
    "d={'red','blue','yellow','red','blue','yellow'}"
   ]
  },
  {
   "cell_type": "code",
   "execution_count": 17,
   "id": "aa31894a-9824-4dc7-af33-941aab73d074",
   "metadata": {},
   "outputs": [
    {
     "data": {
      "text/plain": [
       "{'blue', 'red', 'yellow'}"
      ]
     },
     "execution_count": 17,
     "metadata": {},
     "output_type": "execute_result"
    }
   ],
   "source": [
    "d"
   ]
  },
  {
   "cell_type": "code",
   "execution_count": 18,
   "id": "101303c0-4265-4ca6-8660-d358a6286ce2",
   "metadata": {},
   "outputs": [],
   "source": [
    "d.add('black')"
   ]
  },
  {
   "cell_type": "code",
   "execution_count": 19,
   "id": "c5409994-25ef-4615-9d02-b2d64d1d9819",
   "metadata": {},
   "outputs": [
    {
     "data": {
      "text/plain": [
       "{'black', 'blue', 'red', 'yellow'}"
      ]
     },
     "execution_count": 19,
     "metadata": {},
     "output_type": "execute_result"
    }
   ],
   "source": [
    "d"
   ]
  },
  {
   "cell_type": "code",
   "execution_count": 20,
   "id": "4cf06ad7-629c-423f-b698-f3db0182ed87",
   "metadata": {},
   "outputs": [],
   "source": [
    "d.add('pink')"
   ]
  },
  {
   "cell_type": "code",
   "execution_count": 21,
   "id": "fefcee39-f388-4276-9176-75b0c6b96aae",
   "metadata": {},
   "outputs": [
    {
     "data": {
      "text/plain": [
       "{'black', 'blue', 'pink', 'red', 'yellow'}"
      ]
     },
     "execution_count": 21,
     "metadata": {},
     "output_type": "execute_result"
    }
   ],
   "source": [
    "d"
   ]
  },
  {
   "cell_type": "code",
   "execution_count": 22,
   "id": "a24fd1b5-33ce-47ae-9999-18899f20b433",
   "metadata": {},
   "outputs": [],
   "source": [
    "c={'tolu','bolu','dami','john'}"
   ]
  },
  {
   "cell_type": "code",
   "execution_count": 23,
   "id": "d82ed5ca-e9d5-4310-822e-e6fdb71e4a94",
   "metadata": {},
   "outputs": [
    {
     "data": {
      "text/plain": [
       "{'bolu', 'dami', 'john', 'tolu'}"
      ]
     },
     "execution_count": 23,
     "metadata": {},
     "output_type": "execute_result"
    }
   ],
   "source": [
    "c"
   ]
  },
  {
   "cell_type": "code",
   "execution_count": 24,
   "id": "eb877d55-9071-4e3b-be00-d8a3f03639c0",
   "metadata": {},
   "outputs": [],
   "source": [
    "d.update(c)"
   ]
  },
  {
   "cell_type": "code",
   "execution_count": 25,
   "id": "e29c87fe-4ea1-428d-aa84-8111828fef17",
   "metadata": {},
   "outputs": [
    {
     "data": {
      "text/plain": [
       "{'black', 'blue', 'bolu', 'dami', 'john', 'pink', 'red', 'tolu', 'yellow'}"
      ]
     },
     "execution_count": 25,
     "metadata": {},
     "output_type": "execute_result"
    }
   ],
   "source": [
    "d"
   ]
  },
  {
   "cell_type": "code",
   "execution_count": 26,
   "id": "35e2a459-432d-43f4-86a8-550b9b5da822",
   "metadata": {},
   "outputs": [],
   "source": [
    "e={2001,2002,2003,2004}"
   ]
  },
  {
   "cell_type": "code",
   "execution_count": 27,
   "id": "02b20578-2593-43df-bd70-1a5d1e9f21cf",
   "metadata": {},
   "outputs": [
    {
     "data": {
      "text/plain": [
       "{2001, 2002, 2003, 2004}"
      ]
     },
     "execution_count": 27,
     "metadata": {},
     "output_type": "execute_result"
    }
   ],
   "source": [
    "e"
   ]
  },
  {
   "cell_type": "code",
   "execution_count": 28,
   "id": "8d2d9b3a-4a1f-492d-a800-e7816f9dfa01",
   "metadata": {},
   "outputs": [],
   "source": [
    "d.update(e)"
   ]
  },
  {
   "cell_type": "code",
   "execution_count": 29,
   "id": "b0151af2-b5bc-4d7c-a228-9edbdae40207",
   "metadata": {},
   "outputs": [
    {
     "data": {
      "text/plain": [
       "{2001,\n",
       " 2002,\n",
       " 2003,\n",
       " 2004,\n",
       " 'black',\n",
       " 'blue',\n",
       " 'bolu',\n",
       " 'dami',\n",
       " 'john',\n",
       " 'pink',\n",
       " 'red',\n",
       " 'tolu',\n",
       " 'yellow'}"
      ]
     },
     "execution_count": 29,
     "metadata": {},
     "output_type": "execute_result"
    }
   ],
   "source": [
    "d"
   ]
  },
  {
   "cell_type": "code",
   "execution_count": 30,
   "id": "696c5248-da34-4324-b00e-4486e36f54f2",
   "metadata": {},
   "outputs": [
    {
     "data": {
      "text/plain": [
       "{'bolu', 'dami', 'john', 'tolu'}"
      ]
     },
     "execution_count": 30,
     "metadata": {},
     "output_type": "execute_result"
    }
   ],
   "source": [
    "c"
   ]
  },
  {
   "cell_type": "code",
   "execution_count": 31,
   "id": "d15eeb91-774d-47d1-9c5e-ce87b8d9239d",
   "metadata": {},
   "outputs": [
    {
     "data": {
      "text/plain": [
       "{2001,\n",
       " 2002,\n",
       " 2003,\n",
       " 2004,\n",
       " 'black',\n",
       " 'blue',\n",
       " 'bolu',\n",
       " 'dami',\n",
       " 'john',\n",
       " 'pink',\n",
       " 'red',\n",
       " 'tolu',\n",
       " 'yellow'}"
      ]
     },
     "execution_count": 31,
     "metadata": {},
     "output_type": "execute_result"
    }
   ],
   "source": [
    "d.union(c)"
   ]
  },
  {
   "cell_type": "code",
   "execution_count": 32,
   "id": "0d8153a2-ec21-4973-832c-82151d7042c3",
   "metadata": {},
   "outputs": [
    {
     "data": {
      "text/plain": [
       "{'bolu', 'dami', 'john', 'tolu'}"
      ]
     },
     "execution_count": 32,
     "metadata": {},
     "output_type": "execute_result"
    }
   ],
   "source": [
    "d.intersection(c)"
   ]
  },
  {
   "cell_type": "code",
   "execution_count": 33,
   "id": "f6a8c24c-ba76-444c-80a4-41b650a97312",
   "metadata": {},
   "outputs": [
    {
     "data": {
      "text/plain": [
       "{2001, 2002, 2003, 2004, 'black', 'blue', 'pink', 'red', 'yellow'}"
      ]
     },
     "execution_count": 33,
     "metadata": {},
     "output_type": "execute_result"
    }
   ],
   "source": [
    "d.difference(c)"
   ]
  },
  {
   "cell_type": "code",
   "execution_count": 34,
   "id": "8d6885dc-bd54-4696-92b7-05ec475a7e25",
   "metadata": {},
   "outputs": [],
   "source": [
    "d.intersection_update(c)"
   ]
  },
  {
   "cell_type": "code",
   "execution_count": 35,
   "id": "b894642f-6c07-4c21-b9be-4dcfdc334587",
   "metadata": {},
   "outputs": [
    {
     "data": {
      "text/plain": [
       "{'bolu', 'dami', 'john', 'tolu'}"
      ]
     },
     "execution_count": 35,
     "metadata": {},
     "output_type": "execute_result"
    }
   ],
   "source": [
    "d"
   ]
  },
  {
   "cell_type": "code",
   "execution_count": 36,
   "id": "cd1f9849-fbec-4bb7-82ae-0e13135e46d9",
   "metadata": {},
   "outputs": [
    {
     "data": {
      "text/plain": [
       "{'bolu', 'dami', 'john', 'tolu'}"
      ]
     },
     "execution_count": 36,
     "metadata": {},
     "output_type": "execute_result"
    }
   ],
   "source": [
    "d"
   ]
  },
  {
   "cell_type": "code",
   "execution_count": 37,
   "id": "3319e1d1-af54-4ed0-99e5-1805e938a00a",
   "metadata": {},
   "outputs": [
    {
     "data": {
      "text/plain": [
       "'bolu'"
      ]
     },
     "execution_count": 37,
     "metadata": {},
     "output_type": "execute_result"
    }
   ],
   "source": [
    "d.pop()"
   ]
  },
  {
   "cell_type": "code",
   "execution_count": 38,
   "id": "0544cb7b-4579-4143-b2f3-71198f5ea9de",
   "metadata": {},
   "outputs": [
    {
     "data": {
      "text/plain": [
       "3"
      ]
     },
     "execution_count": 38,
     "metadata": {},
     "output_type": "execute_result"
    }
   ],
   "source": [
    "len(d)"
   ]
  },
  {
   "cell_type": "code",
   "execution_count": 41,
   "id": "903d9363-c705-494f-886a-9b4303da08c3",
   "metadata": {},
   "outputs": [],
   "source": [
    "w={'black', 'blue', 'bolu', 'dami', 'john', 'pink', 'red', 'tolu', 'yellow'}"
   ]
  },
  {
   "cell_type": "code",
   "execution_count": 42,
   "id": "9955dde2-3e47-4190-9a68-ec01c756e893",
   "metadata": {},
   "outputs": [
    {
     "data": {
      "text/plain": [
       "{'black', 'blue', 'bolu', 'dami', 'john', 'pink', 'red', 'tolu', 'yellow'}"
      ]
     },
     "execution_count": 42,
     "metadata": {},
     "output_type": "execute_result"
    }
   ],
   "source": [
    "w"
   ]
  },
  {
   "cell_type": "code",
   "execution_count": 43,
   "id": "a2f5906e-78e4-4a74-9042-c8bfbdb94384",
   "metadata": {},
   "outputs": [
    {
     "data": {
      "text/plain": [
       "{'bolu', 'dami', 'john', 'tolu'}"
      ]
     },
     "execution_count": 43,
     "metadata": {},
     "output_type": "execute_result"
    }
   ],
   "source": [
    "c"
   ]
  },
  {
   "cell_type": "code",
   "execution_count": 44,
   "id": "084630d5-17a8-4b72-a754-2a52e4ddb77f",
   "metadata": {},
   "outputs": [
    {
     "data": {
      "text/plain": [
       "False"
      ]
     },
     "execution_count": 44,
     "metadata": {},
     "output_type": "execute_result"
    }
   ],
   "source": [
    "w.issubset(c)"
   ]
  },
  {
   "cell_type": "code",
   "execution_count": 45,
   "id": "445a41b6-0b01-4e55-b7c7-a52215d8b8ad",
   "metadata": {},
   "outputs": [
    {
     "data": {
      "text/plain": [
       "True"
      ]
     },
     "execution_count": 45,
     "metadata": {},
     "output_type": "execute_result"
    }
   ],
   "source": [
    "c.issubset(w)"
   ]
  },
  {
   "cell_type": "code",
   "execution_count": 46,
   "id": "7dfa2bd6-1107-49f8-ac51-5c8e21c8b7fc",
   "metadata": {},
   "outputs": [
    {
     "data": {
      "text/plain": [
       "False"
      ]
     },
     "execution_count": 46,
     "metadata": {},
     "output_type": "execute_result"
    }
   ],
   "source": [
    "w.isdisjoint(c)"
   ]
  },
  {
   "cell_type": "code",
   "execution_count": 47,
   "id": "4c4a983e-2207-4603-9e94-045fd564fd07",
   "metadata": {},
   "outputs": [
    {
     "data": {
      "text/plain": [
       "{2001, 2002, 2003, 2004}"
      ]
     },
     "execution_count": 47,
     "metadata": {},
     "output_type": "execute_result"
    }
   ],
   "source": [
    "e"
   ]
  },
  {
   "cell_type": "code",
   "execution_count": 48,
   "id": "0536dc39-2583-4e83-9c17-ddf8d4aa5d15",
   "metadata": {},
   "outputs": [
    {
     "data": {
      "text/plain": [
       "True"
      ]
     },
     "execution_count": 48,
     "metadata": {},
     "output_type": "execute_result"
    }
   ],
   "source": [
    "w.isdisjoint(e)"
   ]
  },
  {
   "cell_type": "code",
   "execution_count": 49,
   "id": "e46abf73-33ae-4585-955d-f8802428bfb8",
   "metadata": {},
   "outputs": [],
   "source": [
    "z= {2004,2005,2006,2007}"
   ]
  },
  {
   "cell_type": "code",
   "execution_count": 51,
   "id": "e49766da-44d2-422f-af5c-11c22c59b17c",
   "metadata": {},
   "outputs": [
    {
     "data": {
      "text/plain": [
       "{2001, 2002, 2003, 2005, 2006, 2007}"
      ]
     },
     "execution_count": 51,
     "metadata": {},
     "output_type": "execute_result"
    }
   ],
   "source": [
    "e.symmetric_difference(z)"
   ]
  },
  {
   "cell_type": "code",
   "execution_count": null,
   "id": "b1883311-cfd6-4c4c-a674-8d553d3f744e",
   "metadata": {},
   "outputs": [],
   "source": []
  }
 ],
 "metadata": {
  "kernelspec": {
   "display_name": "Python 3 (ipykernel)",
   "language": "python",
   "name": "python3"
  },
  "language_info": {
   "codemirror_mode": {
    "name": "ipython",
    "version": 3
   },
   "file_extension": ".py",
   "mimetype": "text/x-python",
   "name": "python",
   "nbconvert_exporter": "python",
   "pygments_lexer": "ipython3",
   "version": "3.11.7"
  }
 },
 "nbformat": 4,
 "nbformat_minor": 5
}
